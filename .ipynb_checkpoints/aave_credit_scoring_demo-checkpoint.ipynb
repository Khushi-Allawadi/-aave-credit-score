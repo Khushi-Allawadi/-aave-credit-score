{
 "cells": [
  {
   "cell_type": "code",
   "execution_count": 1,
   "id": "eed8f1d1-be7c-483c-9ead-35d63a6d1085",
   "metadata": {},
   "outputs": [],
   "source": [
    "# Aave Credit Scoring - ML Demo Notebook\n",
    "\n",
    "import json\n",
    "import pandas as pd\n",
    "import numpy as np\n",
    "import matplotlib.pyplot as plt\n",
    "import seaborn as sns\n",
    "from collections import defaultdict\n",
    "from sklearn.model_selection import train_test_split\n",
    "from sklearn.linear_model import LinearRegression\n",
    "from sklearn.ensemble import RandomForestRegressor\n",
    "from sklearn.metrics import mean_absolute_error, r2_score\n",
    "from xgboost import XGBRegressor"
   ]
  },
  {
   "cell_type": "code",
   "execution_count": 2,
   "id": "10e8e46d-64e0-46b7-b65e-d393d9e6b27f",
   "metadata": {},
   "outputs": [
    {
     "name": "stdout",
     "output_type": "stream",
     "text": [
      "Loaded 100000 transactions\n"
     ]
    }
   ],
   "source": [
    "# Step 1: Load Data\n",
    "with open(\"data/user-wallet-transactions.json\", \"r\") as f:\n",
    "    raw_data = json.load(f)\n",
    "\n",
    "print(f\"Loaded {len(raw_data)} transactions\")"
   ]
  },
  {
   "cell_type": "code",
   "execution_count": 3,
   "id": "7f66e6a3-7b5f-4403-9615-f91a49c79d82",
   "metadata": {},
   "outputs": [],
   "source": [
    "# Step 2: Feature Engineering\n",
    "wallet_actions = defaultdict(lambda: {\n",
    "    \"deposits\": 0,\n",
    "    \"borrows\": 0,\n",
    "    \"repays\": 0,\n",
    "    \"redeems\": 0,\n",
    "    \"liquidations\": 0\n",
    "})\n",
    "\n",
    "for txn in raw_data:\n",
    "    wallet = txn.get(\"userWallet\") or txn.get(\"actionData\", {}).get(\"userId\")\n",
    "    if not wallet:\n",
    "        continue\n",
    "    action = txn.get(\"action\", \"\").lower()\n",
    "    if action == \"deposit\":\n",
    "        wallet_actions[wallet][\"deposits\"] += 1\n",
    "    elif action == \"borrow\":\n",
    "        wallet_actions[wallet][\"borrows\"] += 1\n",
    "    elif action == \"repay\":\n",
    "        wallet_actions[wallet][\"repays\"] += 1\n",
    "    elif action == \"redeemunderlying\":\n",
    "        wallet_actions[wallet][\"redeems\"] += 1\n",
    "    elif action == \"liquidationcall\":\n",
    "        wallet_actions[wallet][\"liquidations\"] += 1\n",
    "\n",
    "features_df = pd.DataFrame.from_dict(wallet_actions, orient=\"index\").reset_index()\n",
    "features_df.rename(columns={\"index\": \"wallet\"}, inplace=True)# Step 3: Generate target score (manually like earlier)\n",
    "def calculate_score(row):\n",
    "    score = (\n",
    "        row[\"deposits\"] * 2 +\n",
    "        row[\"repays\"] * 1.5 -\n",
    "        row[\"borrows\"] * 1 +\n",
    "        row[\"redeems\"] * 1.2 -\n",
    "        row[\"liquidations\"] * 10\n",
    "    )\n",
    "    return max(0, min(int(score * 10), 1000))\n",
    "\n",
    "features_df[\"score\"] = features_df.apply(calculate_score, axis=1)"
   ]
  },
  {
   "cell_type": "code",
   "execution_count": 4,
   "id": "5bd79aab-650d-46fe-ab89-1c18750d0bd5",
   "metadata": {},
   "outputs": [
    {
     "name": "stderr",
     "output_type": "stream",
     "text": [
      "/opt/anaconda3/lib/python3.11/site-packages/seaborn/_oldcore.py:1119: FutureWarning: use_inf_as_na option is deprecated and will be removed in a future version. Convert inf values to NaN before operating instead.\n",
      "  with pd.option_context('mode.use_inf_as_na', True):\n"
     ]
    },
    {
     "data": {
      "image/png": "[encoded data removed]",
      "text/plain": [
       "<Figure size 640x480 with 1 Axes>"
      ]
     },
     "metadata": {},
     "output_type": "display_data"
    }
   ],
   "source": [
    "# Step 4: EDA\n",
    "sns.histplot(features_df[\"score\"], bins=50, kde=True)\n",
    "plt.title(\"Distribution of Credit Scores\")\n",
    "plt.xlabel(\"Score\")\n",
    "plt.ylabel(\"Wallet Count\")\n",
    "plt.show()"
   ]
  },
  {
   "cell_type": "code",
   "execution_count": 5,
   "id": "ad97ed34-ac7a-4173-8d0a-43e39d9577c1",
   "metadata": {},
   "outputs": [],
   "source": [
    "# Step 5: Train-Test Split\n",
    "X = features_df.drop(columns=[\"wallet\", \"score\"])\n",
    "y = features_df[\"score\"]\n",
    "X_train, X_test, y_train, y_test = train_test_split(X, y, test_size=0.2, random_state=42)"
   ]
  },
  {
   "cell_type": "code",
   "execution_count": 6,
   "id": "e496fbba-aebf-4b40-ad37-747bba42c96a",
   "metadata": {},
   "outputs": [
    {
     "name": "stdout",
     "output_type": "stream",
     "text": [
      "LinearRegression | MAE: 203.62 | R²: -36.66\n",
      "RandomForest | MAE: 10.57 | R²: 0.98\n",
      "XGBoost | MAE: 9.55 | R²: 0.98\n"
     ]
    }
   ],
   "source": [
    "# Step 6: Models\n",
    "models = {\n",
    "    \"LinearRegression\": LinearRegression(),\n",
    "    \"RandomForest\": RandomForestRegressor(n_estimators=100, random_state=42),\n",
    "    \"XGBoost\": XGBRegressor(n_estimators=100, random_state=42, verbosity=0)\n",
    "}\n",
    "\n",
    "results = {}\n",
    "\n",
    "for name, model in models.items():\n",
    "    model.fit(X_train, y_train)\n",
    "    preds = model.predict(X_test)\n",
    "    mae = mean_absolute_error(y_test, preds)\n",
    "    r2 = r2_score(y_test, preds)\n",
    "    results[name] = {\"MAE\": mae, \"R2\": r2}\n",
    "    print(f\"{name} | MAE: {mae:.2f} | R²: {r2:.2f}\")"
   ]
  },
  {
   "cell_type": "code",
   "execution_count": 7,
   "id": "3fbf0879-64d9-4164-97b3-5d417eb60af1",
   "metadata": {},
   "outputs": [],
   "source": [
    "# Step 7: XGBoost\n",
    "best_model = models[\"XGBoost\"]\n",
    "features_df[\"predicted_score\"] = best_model.predict(X)\n",
    "\n",
    "# Clamp scores\n",
    "features_df[\"predicted_score\"] = features_df[\"predicted_score\"].clip(0, 1000).round(2)\n",
    "\n",
    "# Risk Category\n",
    "def classify(score):\n",
    "    if score >= 700:\n",
    "        return \"Low\"\n",
    "    elif score >= 400:\n",
    "        return \"Medium\"\n",
    "    else:\n",
    "        return \"High\"\n",
    "\n",
    "features_df[\"risk_category\"] = features_df[\"predicted_score\"].apply(classify)"
   ]
  },
  {
   "cell_type": "code",
   "execution_count": 8,
   "id": "aeed1120-7b1f-4711-a539-83775b30349e",
   "metadata": {},
   "outputs": [],
   "source": [
    "# Final Output\n",
    "output_df = features_df[[\"wallet\", \"predicted_score\", \"risk_category\"]]\n",
    "output_df.to_csv(\"output/wallet_scores_ml.csv\", index=False)"
   ]
  },
  {
   "cell_type": "code",
   "execution_count": 9,
   "id": "c2a5f828-5165-4e3e-8add-5ec63339e82a",
   "metadata": {},
   "outputs": [
    {
     "data": {
      "text/html": [
       "<div>\n",
       "<style scoped>\n",
       "    .dataframe tbody tr th:only-of-type {\n",
       "        vertical-align: middle;\n",
       "    }\n",
       "\n",
       "    .dataframe tbody tr th {\n",
       "        vertical-align: top;\n",
       "    }\n",
       "\n",
       "    .dataframe thead th {\n",
       "        text-align: right;\n",
       "    }\n",
       "</style>\n",
       "<table border=\"1\" class=\"dataframe\">\n",
       "  <thead>\n",
       "    <tr style=\"text-align: right;\">\n",
       "      <th></th>\n",
       "      <th>wallet</th>\n",
       "      <th>predicted_score</th>\n",
       "      <th>risk_category</th>\n",
       "    </tr>\n",
       "  </thead>\n",
       "  <tbody>\n",
       "    <tr>\n",
       "      <th>0</th>\n",
       "      <td>0x00000000001accfa9cef68cf5371a23025b6d4b6</td>\n",
       "      <td>20.000000</td>\n",
       "      <td>High</td>\n",
       "    </tr>\n",
       "    <tr>\n",
       "      <th>1</th>\n",
       "      <td>0x000000000051d07a4fb3bd10121a343d85818da6</td>\n",
       "      <td>20.000000</td>\n",
       "      <td>High</td>\n",
       "    </tr>\n",
       "    <tr>\n",
       "      <th>2</th>\n",
       "      <td>0x000000000096026fb41fc39f9875d164bd82e2dc</td>\n",
       "      <td>40.070000</td>\n",
       "      <td>High</td>\n",
       "    </tr>\n",
       "    <tr>\n",
       "      <th>3</th>\n",
       "      <td>0x0000000000e189dd664b9ab08a33c4839953852c</td>\n",
       "      <td>203.350006</td>\n",
       "      <td>High</td>\n",
       "    </tr>\n",
       "    <tr>\n",
       "      <th>4</th>\n",
       "      <td>0x0000000002032370b971dabd36d72f3e5a7bf1ee</td>\n",
       "      <td>999.309998</td>\n",
       "      <td>Low</td>\n",
       "    </tr>\n",
       "  </tbody>\n",
       "</table>\n",
       "</div>"
      ],
      "text/plain": [
       "                                       wallet  predicted_score risk_category\n",
       "0  0x00000000001accfa9cef68cf5371a23025b6d4b6        20.000000          High\n",
       "1  0x000000000051d07a4fb3bd10121a343d85818da6        20.000000          High\n",
       "2  0x000000000096026fb41fc39f9875d164bd82e2dc        40.070000          High\n",
       "3  0x0000000000e189dd664b9ab08a33c4839953852c       203.350006          High\n",
       "4  0x0000000002032370b971dabd36d72f3e5a7bf1ee       999.309998           Low"
      ]
     },
     "execution_count": 9,
     "metadata": {},
     "output_type": "execute_result"
    }
   ],
   "source": [
    "# Step 8: Sample View\n",
    "output_df.head()"
   ]
  },
  {
   "cell_type": "code",
   "execution_count": null,
   "id": "387dd89f-ca75-4835-80e4-edbd9de052d1",
   "metadata": {},
   "outputs": [],
   "source": []
  }
 ],
 "metadata": {
  "kernelspec": {
   "display_name": "Python 3 (ipykernel)",
   "language": "python",
   "name": "python3"
  },
  "language_info": {
   "codemirror_mode": {
    "name": "ipython",
    "version": 3
   },
   "file_extension": ".py",
   "mimetype": "text/x-python",
   "name": "python",
   "nbconvert_exporter": "python",
   "pygments_lexer": "ipython3",
   "version": "3.11.7"
  }
 },
 "nbformat": 4,
 "nbformat_minor": 5
}
